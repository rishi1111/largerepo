{
 "cells": [
  {
   "cell_type": "code",
   "execution_count": 1,
   "id": "f8c76bf5-69b6-4a1d-a555-4149f084dd65",
   "metadata": {},
   "outputs": [
    {
     "name": "stderr",
     "output_type": "stream",
     "text": [
      "/opt/conda/lib/python3.6/site-packages/requests/__init__.py:91: RequestsDependencyWarning: urllib3 (1.26.6) or chardet (3.0.4) doesn't match a supported version!\n",
      "  RequestsDependencyWarning)\n"
     ]
    }
   ],
   "source": [
    "from kubernetes import client, config, watch\n"
   ]
  },
  {
   "cell_type": "code",
   "execution_count": 2,
   "id": "9edca8a8-6b4a-4206-a037-1b830e2a9547",
   "metadata": {},
   "outputs": [],
   "source": [
    "config.load_incluster_config()"
   ]
  },
  {
   "cell_type": "code",
   "execution_count": 3,
   "id": "87895c43-f222-4ed7-8ad3-6b66af146fa4",
   "metadata": {},
   "outputs": [],
   "source": [
    "extension = client.BatchV1Api()\n"
   ]
  },
  {
   "cell_type": "code",
   "execution_count": 4,
   "id": "851380a5-c580-47c7-9f9c-6eccf7bd8907",
   "metadata": {},
   "outputs": [],
   "source": [
    "v1 = client.CoreV1Api()"
   ]
  },
  {
   "cell_type": "code",
   "execution_count": 6,
   "id": "0a64682e-5f72-4ef6-b311-df7331c4576b",
   "metadata": {},
   "outputs": [
    {
     "ename": "NameError",
     "evalue": "name 'app' is not defined",
     "output_type": "error",
     "traceback": [
      "\u001b[0;31m---------------------------------------------------------------------------\u001b[0m",
      "\u001b[0;31mNameError\u001b[0m                                 Traceback (most recent call last)",
      "\u001b[0;32m<ipython-input-6-b2c361b403d9>\u001b[0m in \u001b[0;36m<module>\u001b[0;34m\u001b[0m\n\u001b[1;32m      1\u001b[0m \u001b[0mjob_name\u001b[0m \u001b[0;34m=\u001b[0m \u001b[0;34m\"a\"\u001b[0m\u001b[0;34m\u001b[0m\u001b[0;34m\u001b[0m\u001b[0m\n\u001b[0;32m----> 2\u001b[0;31m pod_name = v1.list_namespaced_pod(app.config[\"KUBERNETES_NAMESPACE\"],\n\u001b[0m\u001b[1;32m      3\u001b[0m                                       label_selector='job-name={}'.format(job_name))\n",
      "\u001b[0;31mNameError\u001b[0m: name 'app' is not defined"
     ]
    }
   ],
   "source": [
    "\n",
    "job_name = \"a\"\n",
    "pod_name = v1.list_namespaced_pod(app.config[\"KUBERNETES_NAMESPACE\"],\n",
    "                                      label_selector='job-name={}'.format(job_name))"
   ]
  },
  {
   "cell_type": "code",
   "execution_count": null,
   "id": "9bc9b12e-ac4a-41e9-812c-fbacf88ec953",
   "metadata": {},
   "outputs": [],
   "source": []
  }
 ],
 "metadata": {
  "kernelspec": {
   "display_name": "Python 3",
   "language": "python",
   "name": "python3"
  },
  "language_info": {
   "codemirror_mode": {
    "name": "ipython",
    "version": 3
   },
   "file_extension": ".py",
   "mimetype": "text/x-python",
   "name": "python",
   "nbconvert_exporter": "python",
   "pygments_lexer": "ipython3",
   "version": "3.6.13"
  }
 },
 "nbformat": 4,
 "nbformat_minor": 5
}
